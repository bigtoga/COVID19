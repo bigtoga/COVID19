{
 "cells": [
  {
   "cell_type": "code",
   "execution_count": 50,
   "metadata": {},
   "outputs": [
    {
     "name": "stdout",
     "output_type": "stream",
     "text": [
      "Today $timestr value: \"20200325-064725\"\n"
     ]
    }
   ],
   "source": [
    "import pandas as pd\n",
    "import numpy as np\n",
    "import matplotlib.pyplot as plt\n",
    "import json\n",
    "from pprint import pprint \n",
    "\n",
    "from functools import reduce\n",
    "import time\n",
    "\n",
    "timestr = time.strftime(\"%Y%m%d-%H%M%S\")\n",
    "print(f'Today $timestr value: \"{timestr}\"')"
   ]
  },
  {
   "cell_type": "code",
   "execution_count": 2,
   "metadata": {},
   "outputs": [],
   "source": [
    "# Ultimate goal: Get data in 3 column format: Date, Country, TotalConfirmedCasesThusFar\n",
    "\n",
    "# Step 1: Get the raw data - JHU adds a new column for each date\n",
    "df = pd.read_csv(\"https://github.com/CSSEGISandData/COVID-19/raw/master/csse_covid_19_data/csse_covid_19_time_series/time_series_19-covid-Confirmed.csv\")\n",
    "\n",
    "# Step 2: Convert date columns to rows\n",
    "df = df.drop(df.columns[[0, 2, 3]], axis=1)\n",
    "\n",
    "# Step 3: Convert dates to invididual rows using melt()\n",
    "key_columns = df.columns.to_list()[:1]\n",
    "date_columns = df.columns.to_list()[1:]\n",
    "\n",
    "df_clean = pd.melt(\n",
    "    df\n",
    "    , id_vars=key_columns\n",
    "    , value_vars=date_columns\n",
    "    , var_name='Date'\n",
    "    , value_name='Confirmed'\n",
    ")\n",
    "\n",
    "# print(df_clean.head())"
   ]
  },
  {
   "cell_type": "code",
   "execution_count": 39,
   "metadata": {},
   "outputs": [
    {
     "data": {
      "text/html": [
       "<div>\n",
       "<style scoped>\n",
       "    .dataframe tbody tr th:only-of-type {\n",
       "        vertical-align: middle;\n",
       "    }\n",
       "\n",
       "    .dataframe tbody tr th {\n",
       "        vertical-align: top;\n",
       "    }\n",
       "\n",
       "    .dataframe thead th {\n",
       "        text-align: right;\n",
       "    }\n",
       "</style>\n",
       "<table border=\"1\" class=\"dataframe\">\n",
       "  <thead>\n",
       "    <tr style=\"text-align: right;\">\n",
       "      <th></th>\n",
       "      <th>Country</th>\n",
       "      <th>Date</th>\n",
       "      <th>ConfirmedCases</th>\n",
       "    </tr>\n",
       "  </thead>\n",
       "  <tbody>\n",
       "    <tr>\n",
       "      <th>0</th>\n",
       "      <td>Afghanistan</td>\n",
       "      <td>2020-01-22</td>\n",
       "      <td>0</td>\n",
       "    </tr>\n",
       "    <tr>\n",
       "      <th>1</th>\n",
       "      <td>Afghanistan</td>\n",
       "      <td>2020-01-23</td>\n",
       "      <td>0</td>\n",
       "    </tr>\n",
       "    <tr>\n",
       "      <th>2</th>\n",
       "      <td>Afghanistan</td>\n",
       "      <td>2020-01-24</td>\n",
       "      <td>0</td>\n",
       "    </tr>\n",
       "    <tr>\n",
       "      <th>3</th>\n",
       "      <td>Afghanistan</td>\n",
       "      <td>2020-01-25</td>\n",
       "      <td>0</td>\n",
       "    </tr>\n",
       "    <tr>\n",
       "      <th>4</th>\n",
       "      <td>Afghanistan</td>\n",
       "      <td>2020-01-26</td>\n",
       "      <td>0</td>\n",
       "    </tr>\n",
       "  </tbody>\n",
       "</table>\n",
       "</div>"
      ],
      "text/plain": [
       "       Country       Date  ConfirmedCases\n",
       "0  Afghanistan 2020-01-22               0\n",
       "1  Afghanistan 2020-01-23               0\n",
       "2  Afghanistan 2020-01-24               0\n",
       "3  Afghanistan 2020-01-25               0\n",
       "4  Afghanistan 2020-01-26               0"
      ]
     },
     "execution_count": 39,
     "metadata": {},
     "output_type": "execute_result"
    }
   ],
   "source": [
    "# Step 3: Group by Country - remove city/province\n",
    "gbAggs = df_clean.groupby(['Country/Region', 'Date']).agg({\n",
    "        'Confirmed': [\n",
    "            np.sum\n",
    "        ]\n",
    "})\n",
    "\n",
    "# Convert from groupby object to dataframe:\n",
    "gbAggs = gbAggs.reset_index(level=['Country/Region', 'Date'])\n",
    "\n",
    "# Flatten the index by renaming the columns\n",
    "gbAggs.columns = [\"Country\", \"Date\", \"ConfirmedCases\"];\n",
    "gbAggs['Date'] = pd.to_datetime(gbAggs['Date']) \n",
    "gbAggs['ConfirmedCases'] = pd.to_numeric(gbAggs['ConfirmedCases'], downcast='integer')\n",
    "# gbAggs.head()"
   ]
  },
  {
   "cell_type": "code",
   "execution_count": 41,
   "metadata": {},
   "outputs": [
    {
     "data": {
      "text/html": [
       "<div>\n",
       "<style scoped>\n",
       "    .dataframe tbody tr th:only-of-type {\n",
       "        vertical-align: middle;\n",
       "    }\n",
       "\n",
       "    .dataframe tbody tr th {\n",
       "        vertical-align: top;\n",
       "    }\n",
       "\n",
       "    .dataframe thead th {\n",
       "        text-align: right;\n",
       "    }\n",
       "</style>\n",
       "<table border=\"1\" class=\"dataframe\">\n",
       "  <thead>\n",
       "    <tr style=\"text-align: right;\">\n",
       "      <th></th>\n",
       "      <th>Country</th>\n",
       "      <th>Date</th>\n",
       "      <th>ConfirmedCases</th>\n",
       "    </tr>\n",
       "  </thead>\n",
       "  <tbody>\n",
       "    <tr>\n",
       "      <th>176</th>\n",
       "      <td>Algeria</td>\n",
       "      <td>2020-03-21</td>\n",
       "      <td>139</td>\n",
       "    </tr>\n",
       "    <tr>\n",
       "      <th>177</th>\n",
       "      <td>Algeria</td>\n",
       "      <td>2020-03-22</td>\n",
       "      <td>201</td>\n",
       "    </tr>\n",
       "    <tr>\n",
       "      <th>178</th>\n",
       "      <td>Algeria</td>\n",
       "      <td>2020-03-23</td>\n",
       "      <td>201</td>\n",
       "    </tr>\n",
       "    <tr>\n",
       "      <th>239</th>\n",
       "      <td>Andorra</td>\n",
       "      <td>2020-03-22</td>\n",
       "      <td>113</td>\n",
       "    </tr>\n",
       "    <tr>\n",
       "      <th>240</th>\n",
       "      <td>Andorra</td>\n",
       "      <td>2020-03-23</td>\n",
       "      <td>113</td>\n",
       "    </tr>\n",
       "  </tbody>\n",
       "</table>\n",
       "</div>"
      ],
      "text/plain": [
       "     Country       Date  ConfirmedCases\n",
       "176  Algeria 2020-03-21             139\n",
       "177  Algeria 2020-03-22             201\n",
       "178  Algeria 2020-03-23             201\n",
       "239  Andorra 2020-03-22             113\n",
       "240  Andorra 2020-03-23             113"
      ]
     },
     "execution_count": 41,
     "metadata": {},
     "output_type": "execute_result"
    }
   ],
   "source": [
    "# Step 4: Remove all rows until a country has at least 100 rows\n",
    "dfFinal = gbAggs[gbAggs[\"ConfirmedCases\"] >= 100]\n",
    "dfFinal = dfFinal.sort_values([\"Country\", \"Date\"]);\n",
    "# dfFinal = dfFinal.set_index(\"Country\", \"Date\");\n",
    "# dfFinal.head()\n",
    "# dfFinal[dfFinal[\"Country\"] == 'US'].tail()"
   ]
  },
  {
   "cell_type": "markdown",
   "metadata": {},
   "source": [
    "# Target dataframe column format\n",
    "1. 2000-01-01, 'Coca-Cola', '72537'\n",
    "2. 2000-01-01, 'Microsoft', '70196'\n",
    "\n",
    "# Target json data format: \n",
    "1. {date: 2000-01-01, name: \"Coca-Cola\", category: \"Beverages\", value: 72537}\n",
    "2. {date: 2000-01-01, name: \"Microsoft\", category: \"Technology\", value: 70196}"
   ]
  },
  {
   "cell_type": "code",
   "execution_count": 44,
   "metadata": {},
   "outputs": [
    {
     "name": "stdout",
     "output_type": "stream",
     "text": [
      "[{\"Country\":\"Algeria\",\"Date\":\"2020-03-21T00:00:00.000Z\",\"ConfirmedCases\":139},{\"Country\":\"Algeria\",\"Date\":\"2020-03-22T00:00:00.000Z\",\"ConfirmedCases\":201},{\"Country\":\"Algeria\",\"Date\":\"2020-03-23T00:00:00.000Z\",\"ConfirmedCases\":201},{\"Country\":\"Andorra\",\"Date\":\"2020-03-22T00:00:00.000Z\",\"ConfirmedCases\":113},{\"Country\":\"Andorra\",\"Date\":\"2020-03-23T00:00:00.000Z\",\"ConfirmedCases\":113}]\n"
     ]
    }
   ],
   "source": [
    "# orient 'records' creates one element per row w no index value \n",
    "print(dfFinal.head().to_json(orient='records', date_format='iso'))\n",
    "\n",
    "# Export to file\n",
    "jsonFile = 'temp.json';\n",
    "dfFinal.to_json(jsonFile, orient='records');\n",
    "# https://jsonformatter.curiousconcept.com/"
   ]
  },
  {
   "cell_type": "markdown",
   "metadata": {},
   "source": [
    "# Done - now go use the json file in d3"
   ]
  }
 ],
 "metadata": {
  "kernelspec": {
   "display_name": "Python 3",
   "language": "python",
   "name": "python3"
  },
  "language_info": {
   "codemirror_mode": {
    "name": "ipython",
    "version": 3
   },
   "file_extension": ".py",
   "mimetype": "text/x-python",
   "name": "python",
   "nbconvert_exporter": "python",
   "pygments_lexer": "ipython3",
   "version": "3.7.3"
  }
 },
 "nbformat": 4,
 "nbformat_minor": 2
}
