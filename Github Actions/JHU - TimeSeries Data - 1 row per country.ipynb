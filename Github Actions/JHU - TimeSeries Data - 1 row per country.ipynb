{
 "cells": [
  {
   "cell_type": "code",
   "execution_count": 1,
   "metadata": {},
   "outputs": [
    {
     "name": "stdout",
     "output_type": "stream",
     "text": [
      "Today $timestr value: \"20200403-164654\"\n"
     ]
    }
   ],
   "source": [
    "import pandas as pd\n",
    "import numpy as np\n",
    "import matplotlib.pyplot as plt\n",
    "import json\n",
    "from pprint import pprint \n",
    "import requests\n",
    "from datetime import datetime, timedelta\n",
    "\n",
    "from functools import reduce\n",
    "import time\n",
    "\n",
    "# Set to True if you want \"all the info messages\"\n",
    "debug = True;\n",
    "\n",
    "timestr = time.strftime(\"%Y%m%d-%H%M%S\")\n",
    "if(debug):\n",
    "    print(f'Today $timestr value: \"{timestr}\"')\n",
    "\n",
    "baseFolder = '../data/Johns Hopkins/csse_covid_19_time_series/';"
   ]
  },
  {
   "cell_type": "markdown",
   "metadata": {},
   "source": [
    "--------------------------------\n",
    "\n",
    "## Time Series\n",
    "\n",
    "--------------------------------"
   ]
  },
  {
   "cell_type": "code",
   "execution_count": 2,
   "metadata": {},
   "outputs": [
    {
     "name": "stdout",
     "output_type": "stream",
     "text": [
      "  Country/Region  1/22/20  1/23/20  1/24/20  1/25/20  1/26/20  1/27/20  \\\n",
      "0    Afghanistan        0        0        0        0        0        0   \n",
      "1        Albania        0        0        0        0        0        0   \n",
      "2        Algeria        0        0        0        0        0        0   \n",
      "3        Andorra        0        0        0        0        0        0   \n",
      "4         Angola        0        0        0        0        0        0   \n",
      "\n",
      "   1/28/20  1/29/20  1/30/20  ...  3/24/20  3/25/20  3/26/20  3/27/20  \\\n",
      "0        0        0        0  ...       74       84       94      110   \n",
      "1        0        0        0  ...      123      146      174      186   \n",
      "2        0        0        0  ...      264      302      367      409   \n",
      "3        0        0        0  ...      164      188      224      267   \n",
      "4        0        0        0  ...        3        3        4        4   \n",
      "\n",
      "   3/28/20  3/29/20  3/30/20  3/31/20  4/1/20  4/2/20  \n",
      "0      110      120      170      174     237     273  \n",
      "1      197      212      223      243     259     277  \n",
      "2      454      511      584      716     847     986  \n",
      "3      308      334      370      376     390     428  \n",
      "4        5        7        7        7       8       8  \n",
      "\n",
      "[5 rows x 73 columns]\n"
     ]
    }
   ],
   "source": [
    "# Ultimate goal: Get one row per country w 1 column for each date since Jan 22, 2020\n",
    "\n",
    "# Step 1: Get the raw data - JHU adds a new column for each date\n",
    "raw_confirmed = \"https://raw.githubusercontent.com/CSSEGISandData/COVID-19/master/csse_covid_19_data/csse_covid_19_time_series/time_series_covid19_confirmed_global.csv\"\n",
    "df = pd.read_csv(raw_confirmed);\n",
    "\n",
    "# Step 2: Drop Province/State, Lat, and Long\n",
    "df = df.drop(df.columns[[0, 2, 3]], axis=1);\n",
    "\n",
    "if(debug):\n",
    "    print(df.head());"
   ]
  },
  {
   "cell_type": "code",
   "execution_count": 3,
   "metadata": {},
   "outputs": [],
   "source": [
    "dfAggs = df.groupby('Country/Region').sum()\n",
    "\n",
    "# Convert from groupby object to dataframe:\n",
    "dfAggs = dfAggs.reset_index(level=['Country/Region'])"
   ]
  },
  {
   "cell_type": "code",
   "execution_count": 4,
   "metadata": {},
   "outputs": [],
   "source": [
    "# Get the most recent date:last column name\n",
    "maxdate = \"\";\n",
    "for col in dfAggs.columns: \n",
    "    maxdate = col;\n",
    "\n",
    "# Convert to a date, then to the string format I want\n",
    "ds = datetime.strptime(maxdate, '%m/%d/%y')\n",
    "finalDate = datetime.strftime(ds, '%Y-%m-%d');"
   ]
  },
  {
   "cell_type": "code",
   "execution_count": 5,
   "metadata": {},
   "outputs": [
    {
     "name": "stdout",
     "output_type": "stream",
     "text": [
      "CSV file written to ../data/Johns Hopkins/csse_covid_19_time_series/timeseries_1rowPerCountry_2020-04-02.csv\n"
     ]
    }
   ],
   "source": [
    "finalFile = baseFolder + 'timeseries_1rowPerCountry_' + finalDate + '.csv';\n",
    "dfAggs.to_csv(finalFile, index = False);\n",
    "print(f'CSV file written to {finalFile}');"
   ]
  },
  {
   "cell_type": "markdown",
   "metadata": {},
   "source": [
    "### Done - now go use the csv file in d3"
   ]
  }
 ],
 "metadata": {
  "kernelspec": {
   "display_name": "Python 3",
   "language": "python",
   "name": "python3"
  },
  "language_info": {
   "codemirror_mode": {
    "name": "ipython",
    "version": 3
   },
   "file_extension": ".py",
   "mimetype": "text/x-python",
   "name": "python",
   "nbconvert_exporter": "python",
   "pygments_lexer": "ipython3",
   "version": "3.7.3"
  }
 },
 "nbformat": 4,
 "nbformat_minor": 2
}
